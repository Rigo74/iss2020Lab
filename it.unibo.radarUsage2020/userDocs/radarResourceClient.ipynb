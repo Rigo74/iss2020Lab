{
 "cells": [
  {
   "cell_type": "markdown",
   "metadata": {
    "slideshow": {
     "slide_type": "subslide"
    }
   },
   "source": [
    "# RadarResource client\n",
    "See the project it.unibo.radarUsage2020"
   ]
  },
  {
   "cell_type": "markdown",
   "metadata": {},
   "source": [
    "## Interaction with the radarResourceCoap\n",
    "The resource is described in \n",
    "<a href=\"http://htmlpreview.github.com/?https://github.com/anatali/iss2020Lab/blob/master/it.unibo.radarUsage2020/resources/it/unibo/coap/radarResourceCoap.kt\" target=\"web\">radarResourceCoap.kt</a\n",
    "    \n",
    "A test server is running at coap://californium.eclipse.org:5683/. \n",
    "It is an instance of the cf-plugtest-server from the demo-apps. The root resource responds with its current version. \n",
    "More information can be found at http://californium.eclipse.org/.\n",
    "\n"
   ]
  },
  {
   "cell_type": "code",
   "execution_count": null,
   "metadata": {},
   "outputs": [],
   "source": [
    "######################################################\n",
    "# pip install CoAPthon\n",
    "######################################################\n",
    "\n",
    "from coapthon.client.helperclient import HelperClient\n",
    "\n",
    "host = \"localhost\"\n",
    "port = 5683\n",
    "path = \"radarCoapResource\"\n",
    "    \n",
    "client   = HelperClient(server=(host, port))    \n",
    "response = client.get(path)\n",
    "##print( \"\"+response ) #.pretty_print() \n",
    "client.stop()    "
   ]
  },
  {
   "cell_type": "code",
   "execution_count": null,
   "metadata": {},
   "outputs": [],
   "source": []
  },
  {
   "cell_type": "code",
   "execution_count": null,
   "metadata": {},
   "outputs": [],
   "source": [
    "from coapthon.server.coap import CoAP\n",
    "from exampleresources import BasicResource\n",
    "\n",
    "class CoAPServer(CoAP):\n",
    "    def __init__(self, host, port):\n",
    "        CoAP.__init__(self, (host, port))\n",
    "        self.add_resource('basic/', BasicResource())\n",
    "\n",
    "def main():\n",
    "    server = CoAPServer(\"0.0.0.0\", 5683)\n",
    "    try:\n",
    "        server.listen(10)\n",
    "    except KeyboardInterrupt:\n",
    "        print( \"Server Shutdown\" )\n",
    "        server.close()\n",
    "        print( \"Exiting...\" )\n",
    "\n",
    "if __name__ == '__main__':\n",
    "    main()"
   ]
  },
  {
   "cell_type": "code",
   "execution_count": null,
   "metadata": {},
   "outputs": [],
   "source": [
    "#########################################\n",
    "#  pip3 install --upgrade \"aiocoap[all]\"\n",
    "#########################################"
   ]
  },
  {
   "cell_type": "code",
   "execution_count": null,
   "metadata": {},
   "outputs": [],
   "source": [
    "import logging\n",
    "import asyncio\n",
    "\n",
    "#from aiocoap import *\n",
    "\n",
    "logging.basicConfig(level=logging.INFO)\n",
    "\n",
    "async def main():\n",
    "    protocol = await Context.create_client_context()\n",
    "    #protocol = Context.create_client_context()\n",
    "    request = Message(code=GET, uri='coap://localhost:5683/radarCoapResource')\n",
    "\n",
    "    try:\n",
    "        response = await protocol.request(request).response\n",
    "    except Exception as e:\n",
    "        print('Failed to fetch resource:')\n",
    "        print(e)\n",
    "    else:\n",
    "        print('Result: %s\\n%r'%(response.code, response.payload))\n",
    "\n",
    "if __name__ == \"__main__\":\n",
    "    asyncio.get_event_loop().run_until_complete(main())\n",
    "    #main()"
   ]
  },
  {
   "cell_type": "code",
   "execution_count": null,
   "metadata": {},
   "outputs": [],
   "source": [
    "import logging\n",
    "import asyncio\n",
    "\n",
    "from aiocoap import *\n",
    "\n",
    "logging.basicConfig(level=logging.INFO)\n",
    "\n",
    "async def main():\n",
    "    \"\"\"Perform a single PUT request to localhost on the default port, URI\n",
    "    \"/other/block\". The request is sent 2 seconds after initialization.\n",
    "\n",
    "    The payload is bigger than 1kB, and thus sent as several blocks.\"\"\"\n",
    "\n",
    "    context = await Context.create_client_context()\n",
    "\n",
    "    await asyncio.sleep(2)\n",
    "\n",
    "    payload = b\"The quick brown fox jumps over the lazy dog.\\n\" * 30\n",
    "    request = Message(code=PUT, payload=payload, uri=\"coap://localhost/radarCoapResource\")\n",
    "\n",
    "    response = await context.request(request).response\n",
    "\n",
    "    print('Result: %s\\n%r'%(response.code, response.payload))\n",
    "\n",
    "if __name__ == \"__main__\":\n",
    "    asyncio.get_event_loop().run_until_complete(main())"
   ]
  },
  {
   "cell_type": "code",
   "execution_count": null,
   "metadata": {},
   "outputs": [],
   "source": []
  }
 ],
 "metadata": {
  "kernelspec": {
   "display_name": "Python 3",
   "language": "python",
   "name": "python3"
  },
  "language_info": {
   "codemirror_mode": {
    "name": "ipython",
    "version": 3
   },
   "file_extension": ".py",
   "mimetype": "text/x-python",
   "name": "python",
   "nbconvert_exporter": "python",
   "pygments_lexer": "ipython3",
   "version": "3.7.3"
  }
 },
 "nbformat": 4,
 "nbformat_minor": 2
}
