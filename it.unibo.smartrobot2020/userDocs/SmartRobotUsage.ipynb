{
 "cells": [
  {
   "cell_type": "markdown",
   "metadata": {
    "slideshow": {
     "slide_type": "subslide"
    }
   },
   "source": [
    "# Using the smartrobot \n",
    "See the project it.unibo.smartrobot2020"
   ]
  },
  {
   "cell_type": "markdown",
   "metadata": {},
   "source": [
    "## Interaction with the smartrobot qactor\n",
    "See the model: <a href=\"../src/smartrobot.qak\" target=\"code\">basicrobot.qak</a>.\n",
    "<ol>\n",
    "    <li>\n",
    "        Activate the virtual robot and open a browser on <tt>localhost:8090</tt>\n",
    "    </li>\n",
    "    <li>Launch the <tt>basicrobot</tt> and the <tt>smartrobot</tt> \n",
    "    </li>\n",
    "    <li>\n",
    "        Execute the python code hereunder to move the robot\n",
    "    </li>\n",
    "    <li>\n",
    "        Look at the received data when the (virtual) robot hits an obstacle\n",
    "    </li>\n",
    "</ol>\n"
   ]
  },
  {
   "cell_type": "code",
   "execution_count": 4,
   "metadata": {
    "scrolled": true
   },
   "outputs": [
    {
     "name": "stdout",
     "output_type": "stream",
     "text": [
      "CONNECTED WITH localhost\n",
      "step\n",
      "request  msg(step,request, python,smartrobot,step(800),1)\n",
      "RECEIVED: msg(stepdone,reply,smartrobot,python,stepdone(ok),61)\n",
      "\n",
      "step\n",
      "request  msg(step,request, python,smartrobot,step(800),1)\n",
      "RECEIVED: msg(stepdone,reply,smartrobot,python,stepdone(ok),67)\n",
      "\n",
      "z\n",
      "no data back \n",
      "BYE\n"
     ]
    }
   ],
   "source": [
    "##############################################################\n",
    "# sendDispatch       : sends a command in output\n",
    "# read               : acquires data from input\n",
    "##############################################################\n",
    "import socket\n",
    "import time\n",
    "\n",
    "robotName      = \"smartrobot\" # \n",
    "\n",
    "hostAdress     = 'localhost'\n",
    "smartRobotPort = 8020  \n",
    "stepTime       = 800\n",
    "stepCmd        = \"step(\"+str(stepTime)+\")\"\n",
    "        \n",
    "goForwardMsg  = \"msg(cmd,dispatch,python,\"+ robotName +\",cmd(w),1)\"\n",
    "goBackwardMsg = \"msg(cmd,dispatch,python,\"+ robotName +\",cmd(s),1)\" \n",
    "turnLeftMsg   = \"msg(cmd,dispatch,python,\"+ robotName +\",cmd(a),1)\"  \n",
    "turnRightMsg  = \"msg(cmd,dispatch,python,\"+ robotName +\",cmd(d),1)\"  \n",
    "haltMsg       = \"msg(cmd,dispatch,python,\"+ robotName +\",cmd(h),1)\"\n",
    "alermEvent    = \"msg(alarm,event,python,none,alarm(fire),1)\"\n",
    "\n",
    "stepMsg       = \"msg(step,request, python,\"+ robotName +\",\"+stepCmd+\",1)\"\n",
    "stopMsg       = \"msg(stop,dispatch,python,\"+ robotName +\",stop(0),1)\"\n",
    "\n",
    "sock          = socket.socket(socket.AF_INET, socket.SOCK_STREAM)\n",
    "\n",
    "def connect(port) :\n",
    "    server_address = (hostAdress, port)\n",
    "    sock.connect(server_address)    \n",
    "    print(\"CONNECTED WITH\" , hostAdress )\n",
    "\n",
    "def send( message ) :\n",
    "    print(\"send \", message)\n",
    "    msg = message + \"\\n\"\n",
    "    byt=msg.encode()    #required in Python3\n",
    "    sock.send(byt)\n",
    "\n",
    "def request( message , timeOut) :\n",
    "    print(\"request \", message)\n",
    "    msg = message + \"\\n\"\n",
    "    byt=msg.encode()    #required in Python3\n",
    "    sock.send(byt)\n",
    "    read( timeOut )\n",
    "    \n",
    "def terminate() :\n",
    "    read(1) \n",
    "    sock.close()    #qak infrastr receives a msg null\n",
    "    print(\"BYE\")\n",
    "\n",
    "def read(timeout) :\n",
    "    sock.settimeout(timeout)\n",
    "    recStr = \"\"\n",
    "    try:\n",
    "        while( not recStr.endswith(\"\\n\") ) :          \n",
    "            recBytes = sock.recv(1024) # try to receive 1024 bytes\n",
    "            recStr   = recStr + recBytes.decode('utf8')           \n",
    "            #print(\"RECEIVED partial:\" , recStr )\n",
    "        print(\"RECEIVED:\" , recStr )\n",
    "    except socket.timeout: # fail after 1 second of no activity\n",
    "        print(\"no data back \")\n",
    "\n",
    "def console() :  \n",
    "    cmd = str(input())\n",
    "    while( cmd != \"z\" ) :\n",
    "        if( cmd == \"w\" ) :\n",
    "            send( goForwardMsg  ) \n",
    "        if( cmd == \"s\" ) :\n",
    "            send( goBackwardMsg  ) \n",
    "        if( cmd == \"a\" ) :\n",
    "            send( turnLeftMsg  ) \n",
    "        if( cmd == \"d\" ) :\n",
    "            send( turnRightMsg  ) \n",
    "        if( cmd == \"h\" ) :\n",
    "            send( haltMsg  ) \n",
    "        if( cmd == \"step\" ) :\n",
    "            request( stepMsg, stepTime+100  ) \n",
    "        if( cmd == \"stop\" ) :\n",
    "            send( stopMsg  ) \n",
    "        if( cmd == \"m\" ) :\n",
    "            send( alermEvent ) \n",
    "       #read(100)\n",
    "        cmd = str(input())\n",
    "          \n",
    "##################################################\n",
    "connect(smartRobotPort)\n",
    "console()\n",
    "terminate()"
   ]
  },
  {
   "cell_type": "code",
   "execution_count": null,
   "metadata": {},
   "outputs": [],
   "source": []
  }
 ],
 "metadata": {
  "kernelspec": {
   "display_name": "Python 3",
   "language": "python",
   "name": "python3"
  },
  "language_info": {
   "codemirror_mode": {
    "name": "ipython",
    "version": 3
   },
   "file_extension": ".py",
   "mimetype": "text/x-python",
   "name": "python",
   "nbconvert_exporter": "python",
   "pygments_lexer": "ipython3",
   "version": "3.7.3"
  }
 },
 "nbformat": 4,
 "nbformat_minor": 2
}
