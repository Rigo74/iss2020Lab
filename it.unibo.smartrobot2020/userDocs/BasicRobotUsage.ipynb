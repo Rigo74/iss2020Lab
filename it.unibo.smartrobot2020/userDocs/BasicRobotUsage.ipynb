{
 "cells": [
  {
   "cell_type": "markdown",
   "metadata": {
    "slideshow": {
     "slide_type": "subslide"
    }
   },
   "source": [
    "# Using the basicrobot \n",
    "See the project it.unibo.basicrobot2020"
   ]
  },
  {
   "cell_type": "markdown",
   "metadata": {},
   "source": [
    "## Interaction with the basicrobot qactor\n",
    "See the model: <a href=\"../src/basicrobot.qak\" target=\"code\">basicrobot.qak</a>.\n",
    "<ol>\n",
    "    <li>\n",
    "        Activate the virtual robot and oper a browser on <tt>localhost:8090</tt>\n",
    "    </li>\n",
    "    <li>Launch the <tt>basicrobot</tt> as a 'standalone' application (microservice)\n",
    "<pre>\n",
    "cd C:\\..\\it.unibo.basicrobot2020-1.0\\bin\n",
    "it.unibo.basicrobot2020.bat\n",
    "</pre>\n",
    "    </li>\n",
    "    <li>\n",
    "        Execute the python code hereunder to move the robot\n",
    "    </li>\n",
    "    <li>\n",
    "        Look at the received data when the (virtual) robot hits an obstacle\n",
    "    </li>\n",
    "</ol>\n"
   ]
  },
  {
   "cell_type": "code",
   "execution_count": 5,
   "metadata": {},
   "outputs": [
    {
     "name": "stdout",
     "output_type": "stream",
     "text": [
      "CONNECTED WITH  ('localhost', 8018)\n",
      "m\n",
      "RECEIVED: msg(alarm,event,python,none,alarm(intruder),1)\n",
      "\n",
      "z\n"
     ]
    },
    {
     "ename": "ConnectionResetError",
     "evalue": "[WinError 10054] An existing connection was forcibly closed by the remote host",
     "output_type": "error",
     "traceback": [
      "\u001b[1;31m---------------------------------------------------------------------------\u001b[0m",
      "\u001b[1;31mConnectionResetError\u001b[0m                      Traceback (most recent call last)",
      "\u001b[1;32m<ipython-input-5-d3505cbab245>\u001b[0m in \u001b[0;36m<module>\u001b[1;34m\u001b[0m\n\u001b[0;32m     68\u001b[0m \u001b[0mconnect\u001b[0m\u001b[1;33m(\u001b[0m\u001b[0mbasicRobotPort\u001b[0m\u001b[1;33m)\u001b[0m\u001b[1;33m\u001b[0m\u001b[1;33m\u001b[0m\u001b[0m\n\u001b[0;32m     69\u001b[0m \u001b[0mconsole\u001b[0m\u001b[1;33m(\u001b[0m\u001b[1;33m)\u001b[0m\u001b[1;33m\u001b[0m\u001b[1;33m\u001b[0m\u001b[0m\n\u001b[1;32m---> 70\u001b[1;33m \u001b[0mterminate\u001b[0m\u001b[1;33m(\u001b[0m\u001b[1;33m)\u001b[0m\u001b[1;33m\u001b[0m\u001b[1;33m\u001b[0m\u001b[0m\n\u001b[0m",
      "\u001b[1;32m<ipython-input-5-d3505cbab245>\u001b[0m in \u001b[0;36mterminate\u001b[1;34m()\u001b[0m\n\u001b[0;32m     32\u001b[0m \u001b[1;33m\u001b[0m\u001b[0m\n\u001b[0;32m     33\u001b[0m \u001b[1;32mdef\u001b[0m \u001b[0mterminate\u001b[0m\u001b[1;33m(\u001b[0m\u001b[1;33m)\u001b[0m \u001b[1;33m:\u001b[0m\u001b[1;33m\u001b[0m\u001b[1;33m\u001b[0m\u001b[0m\n\u001b[1;32m---> 34\u001b[1;33m     \u001b[0mread\u001b[0m\u001b[1;33m(\u001b[0m\u001b[1;36m1\u001b[0m\u001b[1;33m)\u001b[0m\u001b[1;33m\u001b[0m\u001b[1;33m\u001b[0m\u001b[0m\n\u001b[0m\u001b[0;32m     35\u001b[0m     \u001b[0msock\u001b[0m\u001b[1;33m.\u001b[0m\u001b[0mclose\u001b[0m\u001b[1;33m(\u001b[0m\u001b[1;33m)\u001b[0m    \u001b[1;31m#qak infrastr receives a msg null\u001b[0m\u001b[1;33m\u001b[0m\u001b[1;33m\u001b[0m\u001b[0m\n\u001b[0;32m     36\u001b[0m     \u001b[0mprint\u001b[0m\u001b[1;33m(\u001b[0m\u001b[1;34m\"BYE\"\u001b[0m\u001b[1;33m)\u001b[0m\u001b[1;33m\u001b[0m\u001b[1;33m\u001b[0m\u001b[0m\n",
      "\u001b[1;32m<ipython-input-5-d3505cbab245>\u001b[0m in \u001b[0;36mread\u001b[1;34m(timeout)\u001b[0m\n\u001b[0;32m     41\u001b[0m     \u001b[1;32mtry\u001b[0m\u001b[1;33m:\u001b[0m\u001b[1;33m\u001b[0m\u001b[1;33m\u001b[0m\u001b[0m\n\u001b[0;32m     42\u001b[0m         \u001b[1;32mwhile\u001b[0m\u001b[1;33m(\u001b[0m \u001b[1;32mnot\u001b[0m \u001b[0mrecStr\u001b[0m\u001b[1;33m.\u001b[0m\u001b[0mendswith\u001b[0m\u001b[1;33m(\u001b[0m\u001b[1;34m\"\\n\"\u001b[0m\u001b[1;33m)\u001b[0m \u001b[1;33m)\u001b[0m \u001b[1;33m:\u001b[0m\u001b[1;33m\u001b[0m\u001b[1;33m\u001b[0m\u001b[0m\n\u001b[1;32m---> 43\u001b[1;33m             \u001b[0mrecBytes\u001b[0m \u001b[1;33m=\u001b[0m \u001b[0msock\u001b[0m\u001b[1;33m.\u001b[0m\u001b[0mrecv\u001b[0m\u001b[1;33m(\u001b[0m\u001b[1;36m1024\u001b[0m\u001b[1;33m)\u001b[0m \u001b[1;31m# try to receive 1024 bytes\u001b[0m\u001b[1;33m\u001b[0m\u001b[1;33m\u001b[0m\u001b[0m\n\u001b[0m\u001b[0;32m     44\u001b[0m             \u001b[0mrecStr\u001b[0m   \u001b[1;33m=\u001b[0m \u001b[0mrecStr\u001b[0m \u001b[1;33m+\u001b[0m \u001b[0mrecBytes\u001b[0m\u001b[1;33m.\u001b[0m\u001b[0mdecode\u001b[0m\u001b[1;33m(\u001b[0m\u001b[1;34m'utf8'\u001b[0m\u001b[1;33m)\u001b[0m\u001b[1;33m\u001b[0m\u001b[1;33m\u001b[0m\u001b[0m\n\u001b[0;32m     45\u001b[0m             \u001b[1;31m#print(\"RECEIVED partial:\" , recStr )\u001b[0m\u001b[1;33m\u001b[0m\u001b[1;33m\u001b[0m\u001b[1;33m\u001b[0m\u001b[0m\n",
      "\u001b[1;31mConnectionResetError\u001b[0m: [WinError 10054] An existing connection was forcibly closed by the remote host"
     ]
    }
   ],
   "source": [
    "##############################################################\n",
    "# sendDispatch       : sends a command in output\n",
    "# read               : acquires data from input\n",
    "##############################################################\n",
    "import socket\n",
    "import time\n",
    "\n",
    "robotName      = \"basicrobot\" # robotadapter | basicrobot\n",
    "\n",
    "hostAdress     = 'localhost'\n",
    "basicRobotPort = 8018  \n",
    "  \n",
    "\n",
    "goForwardMsg  = \"msg(cmd,dispatch,python,\"+ robotName +\",cmd(w),1)\"\n",
    "goBackwardMsg = \"msg(cmd,dispatch,python,\"+ robotName +\",cmd(s),1)\" \n",
    "turnLeftMsg   = \"msg(cmd,dispatch,python,\"+ robotName +\",cmd(a),1)\"  \n",
    "turnRightMsg  = \"msg(cmd,dispatch,python,\"+ robotName +\",cmd(d),1)\"  \n",
    "haltMsg       = \"msg(cmd,dispatch,python,\"+ robotName +\",cmd(h),1)\"\n",
    "alermEvent    = \"msg(alarm,event,python,none,alarm(intruder),1)\"\n",
    "\n",
    "sock          = socket.socket(socket.AF_INET, socket.SOCK_STREAM)\n",
    "\n",
    "def connect(port) :\n",
    "    server_address = (hostAdress, port)\n",
    "    sock.connect(server_address)    \n",
    "    print(\"CONNECTED WITH \", server_address )\n",
    "\n",
    "def send( message ) :\n",
    "    msg = message + \"\\n\"\n",
    "    byt=msg.encode()    #required in Python3\n",
    "    sock.send(byt)\n",
    "\n",
    "def terminate() :\n",
    "    read(1) \n",
    "    sock.close()    #qak infrastr receives a msg null\n",
    "    print(\"BYE\")\n",
    "\n",
    "def read(timeout) :\n",
    "    sock.settimeout(timeout)\n",
    "    recStr = \"\"\n",
    "    try:\n",
    "        while( not recStr.endswith(\"\\n\") ) :          \n",
    "            recBytes = sock.recv(1024) # try to receive 1024 bytes\n",
    "            recStr   = recStr + recBytes.decode('utf8')           \n",
    "            #print(\"RECEIVED partial:\" , recStr )\n",
    "        print(\"RECEIVED:\" , recStr )\n",
    "    except socket.timeout: # fail after 1 second of no activity\n",
    "        print(\"no data back \")\n",
    "\n",
    "def console() :  \n",
    "    cmd = str(input()) \n",
    "    while( cmd != \"z\" ) :\n",
    "        if( cmd == \"w\" ) :\n",
    "            send( goForwardMsg ) \n",
    "        if( cmd == \"s\" ) :\n",
    "            send( goBackwardMsg ) \n",
    "        if( cmd == \"a\" ) :\n",
    "            send( turnLeftMsg ) \n",
    "        if( cmd == \"d\" ) :\n",
    "            send( turnRightMsg ) \n",
    "        if( cmd == \"h\" ) :\n",
    "            send( haltMsg ) \n",
    "        if( cmd == \"m\" ) :\n",
    "            send( alermEvent ) \n",
    "        read(1)  \n",
    "        cmd = str(input())\n",
    "##################################################\n",
    "connect(basicRobotPort)\n",
    "console()\n",
    "terminate()"
   ]
  },
  {
   "cell_type": "code",
   "execution_count": null,
   "metadata": {},
   "outputs": [],
   "source": []
  }
 ],
 "metadata": {
  "kernelspec": {
   "display_name": "Python 3",
   "language": "python",
   "name": "python3"
  },
  "language_info": {
   "codemirror_mode": {
    "name": "ipython",
    "version": 3
   },
   "file_extension": ".py",
   "mimetype": "text/x-python",
   "name": "python",
   "nbconvert_exporter": "python",
   "pygments_lexer": "ipython3",
   "version": "3.7.3"
  }
 },
 "nbformat": 4,
 "nbformat_minor": 2
}
