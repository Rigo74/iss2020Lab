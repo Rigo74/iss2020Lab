{
 "cells": [
  {
   "cell_type": "markdown",
   "metadata": {
    "slideshow": {
     "slide_type": "subslide"
    }
   },
   "source": [
    "# Using Webiopi via Coap \n",
    "See the project it.unibo.raspintro2020"
   ]
  },
  {
   "cell_type": "code",
   "execution_count": null,
   "metadata": {},
   "outputs": [],
   "source": []
  },
  {
   "cell_type": "code",
   "execution_count": 6,
   "metadata": {},
   "outputs": [
    {
     "name": "stdout",
     "output_type": "stream",
     "text": [
      "POST | Received response:\n",
      "Version: 1\n",
      "Type: ACK\n",
      "Code: 2.04 Changed\n",
      "Id: 0\n",
      "Token: None\n",
      "Uri-Path: /GPIO/17/value/1\n",
      "Content-Format: text/plain\n",
      "Payload: bytearray(b'1')\n",
      "\n",
      "GET | Received response: 1\n",
      "POST | Received response:\n",
      "Version: 1\n",
      "Type: ACK\n",
      "Code: 2.05 Content\n",
      "Id: 0\n",
      "Token: None\n",
      "Uri-Path: /GPIO/17/value\n",
      "Content-Format: text/plain\n",
      "Payload: bytearray(b'1')\n",
      "\n",
      "GET | Received response: 0\n",
      "POST | Received response:\n",
      "Version: 1\n",
      "Type: ACK\n",
      "Code: 2.05 Content\n",
      "Id: 0\n",
      "Token: None\n",
      "Uri-Path: /GPIO/17/value\n",
      "Content-Format: text/plain\n",
      "Payload: bytearray(b'0')\n",
      "\n",
      "GET | Received response: 1\n",
      "POST | Received response:\n",
      "Version: 1\n",
      "Type: ACK\n",
      "Code: 2.05 Content\n",
      "Id: 0\n",
      "Token: None\n",
      "Uri-Path: /GPIO/17/value\n",
      "Content-Format: text/plain\n",
      "Payload: bytearray(b'1')\n",
      "\n",
      "GET | Received response: 1\n",
      "POST | Received response:\n",
      "Version: 1\n",
      "Type: ACK\n",
      "Code: 2.04 Changed\n",
      "Id: 0\n",
      "Token: None\n",
      "Uri-Path: /GPIO/17/value/0\n",
      "Content-Format: text/plain\n",
      "Payload: bytearray(b'0')\n",
      "\n",
      "GET | Received response: 0\n",
      "POST | Received response:\n",
      "Version: 1\n",
      "Type: ACK\n",
      "Code: 2.04 Changed\n",
      "Id: 0\n",
      "Token: None\n",
      "Uri-Path: /GPIO/17/value/1\n",
      "Content-Format: text/plain\n",
      "Payload: bytearray(b'1')\n",
      "\n",
      "GET | Received response: 1\n"
     ]
    }
   ],
   "source": [
    "##############################################################\n",
    "#  The modules protocls and utils are in the current directory\n",
    "##############################################################\n",
    "from protocols.coap import *\n",
    "from time import sleep\n",
    "\n",
    "client = COAPClient()\n",
    "client.sendRequest(COAPPost(\"coap://192.168.1.3/GPIO/17/function/out\"))\n",
    "state = True\n",
    "\n",
    "for x in range(0, 6): \n",
    "    response = client.sendRequest(COAPPost(\"coap://192.168.1.3/GPIO/17/value/%d\" % state))\n",
    "    if response:\n",
    "        print(\"POST | Received response:\\n%s\" % response)\n",
    "        state = not state\n",
    "    else:\n",
    "        print(\"No response received\")\n",
    "    response = client.sendRequest(COAPGet(\"coap://192.168.1.3/GPIO/17/value\" ))\n",
    "    if response:\n",
    "        print(\"GET | Received response: %s\" %  response.payload.decode(\"utf-8\") )\n",
    "    else:\n",
    "        print(\"No response received\")\n",
    "    sleep(1.0)\n"
   ]
  },
  {
   "cell_type": "code",
   "execution_count": null,
   "metadata": {},
   "outputs": [],
   "source": []
  }
 ],
 "metadata": {
  "kernelspec": {
   "display_name": "Python 3",
   "language": "python",
   "name": "python3"
  },
  "language_info": {
   "codemirror_mode": {
    "name": "ipython",
    "version": 3
   },
   "file_extension": ".py",
   "mimetype": "text/x-python",
   "name": "python",
   "nbconvert_exporter": "python",
   "pygments_lexer": "ipython3",
   "version": "3.7.3"
  }
 },
 "nbformat": 4,
 "nbformat_minor": 2
}
