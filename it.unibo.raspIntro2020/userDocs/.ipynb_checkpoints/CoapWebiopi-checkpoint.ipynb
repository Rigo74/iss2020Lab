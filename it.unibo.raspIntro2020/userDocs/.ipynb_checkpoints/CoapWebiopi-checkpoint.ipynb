{
 "cells": [
  {
   "cell_type": "markdown",
   "metadata": {
    "slideshow": {
     "slide_type": "subslide"
    }
   },
   "source": [
    "# Using Webiopi via Coap \n",
    "See the project it.unibo.raspintro2020"
   ]
  },
  {
   "cell_type": "code",
   "execution_count": null,
   "metadata": {},
   "outputs": [],
   "source": []
  },
  {
   "cell_type": "code",
   "execution_count": 5,
   "metadata": {},
   "outputs": [
    {
     "ename": "AttributeError",
     "evalue": "'COAPResponse' object has no attribute 'decode'",
     "output_type": "error",
     "traceback": [
      "\u001b[1;31m---------------------------------------------------------------------------\u001b[0m",
      "\u001b[1;31mAttributeError\u001b[0m                            Traceback (most recent call last)",
      "\u001b[1;32m<ipython-input-5-113a11f4a11b>\u001b[0m in \u001b[0;36m<module>\u001b[1;34m\u001b[0m\n\u001b[0;32m     12\u001b[0m     \u001b[0mresponse\u001b[0m \u001b[1;33m=\u001b[0m \u001b[0mclient\u001b[0m\u001b[1;33m.\u001b[0m\u001b[0msendRequest\u001b[0m\u001b[1;33m(\u001b[0m\u001b[0mCOAPPost\u001b[0m\u001b[1;33m(\u001b[0m\u001b[1;34m\"coap://192.168.1.3/GPIO/17/value/%d\"\u001b[0m \u001b[1;33m%\u001b[0m \u001b[0mstate\u001b[0m\u001b[1;33m)\u001b[0m\u001b[1;33m)\u001b[0m\u001b[1;33m\u001b[0m\u001b[1;33m\u001b[0m\u001b[0m\n\u001b[0;32m     13\u001b[0m     \u001b[1;32mif\u001b[0m \u001b[0mresponse\u001b[0m\u001b[1;33m:\u001b[0m\u001b[1;33m\u001b[0m\u001b[1;33m\u001b[0m\u001b[0m\n\u001b[1;32m---> 14\u001b[1;33m         \u001b[0mprint\u001b[0m\u001b[1;33m(\u001b[0m\u001b[1;34m\"POST | Received response:\\n%s\"\u001b[0m \u001b[1;33m%\u001b[0m \u001b[0mresponse\u001b[0m\u001b[1;33m.\u001b[0m\u001b[0mdecode\u001b[0m\u001b[1;33m(\u001b[0m\u001b[1;34m\"utf-8\"\u001b[0m\u001b[1;33m)\u001b[0m\u001b[1;33m)\u001b[0m\u001b[1;33m\u001b[0m\u001b[1;33m\u001b[0m\u001b[0m\n\u001b[0m\u001b[0;32m     15\u001b[0m         \u001b[0mstate\u001b[0m \u001b[1;33m=\u001b[0m \u001b[1;32mnot\u001b[0m \u001b[0mstate\u001b[0m\u001b[1;33m\u001b[0m\u001b[1;33m\u001b[0m\u001b[0m\n\u001b[0;32m     16\u001b[0m     \u001b[1;32melse\u001b[0m\u001b[1;33m:\u001b[0m\u001b[1;33m\u001b[0m\u001b[1;33m\u001b[0m\u001b[0m\n",
      "\u001b[1;31mAttributeError\u001b[0m: 'COAPResponse' object has no attribute 'decode'"
     ]
    }
   ],
   "source": [
    "##############################################################\n",
    "#  The modules protocls and utils are in the current directory\n",
    "##############################################################\n",
    "from protocols.coap import *\n",
    "from time import sleep\n",
    "\n",
    "client = COAPClient()\n",
    "client.sendRequest(COAPPost(\"coap://192.168.1.3/GPIO/17/function/out\"))\n",
    "state = True\n",
    "\n",
    "for x in range(0, 6): \n",
    "    response = client.sendRequest(COAPPost(\"coap://192.168.1.3/GPIO/17/value/%d\" % state))\n",
    "    if response:\n",
    "        print(\"POST | Received response:\\n%s\" % response)\n",
    "        state = not state\n",
    "    else:\n",
    "        print(\"No response received\")\n",
    "    response = client.sendRequest(COAPGet(\"coap://192.168.1.3/GPIO/17/value\" ))\n",
    "    if response:\n",
    "        print(\"GET | Received response: %s\" %  response.payload.decode(\"utf-8\") )\n",
    "    else:\n",
    "        print(\"No response received\")\n",
    "    sleep(1.0)\n"
   ]
  },
  {
   "cell_type": "code",
   "execution_count": null,
   "metadata": {},
   "outputs": [],
   "source": []
  }
 ],
 "metadata": {
  "kernelspec": {
   "display_name": "Python 3",
   "language": "python",
   "name": "python3"
  },
  "language_info": {
   "codemirror_mode": {
    "name": "ipython",
    "version": 3
   },
   "file_extension": ".py",
   "mimetype": "text/x-python",
   "name": "python",
   "nbconvert_exporter": "python",
   "pygments_lexer": "ipython3",
   "version": "3.7.3"
  }
 },
 "nbformat": 4,
 "nbformat_minor": 2
}
