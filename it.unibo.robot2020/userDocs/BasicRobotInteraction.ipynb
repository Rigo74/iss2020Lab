{
 "cells": [
  {
   "cell_type": "markdown",
   "metadata": {
    "slideshow": {
     "slide_type": "subslide"
    }
   },
   "source": [
    "# BasicRobotInteraction"
   ]
  },
  {
   "cell_type": "markdown",
   "metadata": {},
   "source": [
    "## Interaction with the Virtual Robot\n",
    "The virtual robot is described in \n",
    "<a href=\"http://htmlpreview.github.com/?https://github.com/anatali/iss2020Lab/blob/master/it.unibo.robot2020/userDocs/LabVirtualRobot.html\" target=\"web\">\n",
    "LabVirtualRobot</a>"
   ]
  },
  {
   "cell_type": "code",
   "execution_count": null,
   "metadata": {},
   "outputs": [],
   "source": [
    "##############################################################\n",
    "# clientToWenv.py\n",
    "# sendToVirtualRobot : sends a command in output\n",
    "# read               : acquires data from input\n",
    "##############################################################\n",
    "import socket\n",
    "import time\n",
    "import json\n",
    "\n",
    "sock = socket.socket(socket.AF_INET, socket.SOCK_STREAM)\n",
    "virtualRobotPort = 8999\n",
    "sep = ';'   #required by the Soffritti virtual robot 'language'\n",
    "\n",
    "goForwardMsg  = '{\"type\": \"moveForward\",   \"arg\": -1  }'\n",
    "goBackwardMsg = '{\"type\": \"moveBackward\",  \"arg\": -1  }'\n",
    "turnLeftMsg   = '{\"type\": \"turnLeft\",      \"arg\": 400 }'\n",
    "turnRightMsg  = '{\"type\": \"turnRight\",     \"arg\": 400 }'\n",
    "haltMsg       = '{\"type\": \"alarm\",         \"arg\": 0   }'\n",
    "\n",
    "def connect(port) :\n",
    "    server_address = ('localhost', port)\n",
    "    sock.connect(server_address)    \n",
    "    print(\"CONNECTED WITH the virtual robot\" , server_address)\n",
    "\n",
    "def sendToVirtualRobot( message ) :\n",
    "    print(\"forward \", message)\n",
    "    msgJson = json.loads( message )\n",
    "    msg     = sep+ json.dumps(msgJson)+ sep \n",
    "    byt=msg.encode()    #required in Python3\n",
    "    sock.send( byt )\n",
    "\n",
    "def work() :\n",
    "    sendToVirtualRobot( goForwardMsg ) \n",
    "    time.sleep(1)\n",
    "    sendToVirtualRobot( haltMsg ) \n",
    "\n",
    "def read() :\n",
    "    BUFFER_SIZE = 1024\n",
    "    data = sock.recv(BUFFER_SIZE)\n",
    "    print( \"received data:\", data )\n",
    "\n",
    "def terminate() :\n",
    "    sock.close()\n",
    "    print(\"BYE\")\n",
    "\n",
    "###########################################    \n",
    "connect(virtualRobotPort)\n",
    "work()\n",
    "read()\n",
    "terminate()"
   ]
  },
  {
   "cell_type": "markdown",
   "metadata": {},
   "source": [
    "## Interaction with the basicrobot qactor"
   ]
  },
  {
   "cell_type": "code",
   "execution_count": 2,
   "metadata": {},
   "outputs": [
    {
     "name": "stdout",
     "output_type": "stream",
     "text": [
      "CONNECTED WITH basicrobot ('localhost', 8020)\n",
      "forward  msg(cmd,dispatch,python,basicrobot,cmd(w),1)\n",
      "forward  msg(cmd,dispatch,python,basicrobot,cmd(h),1)\n",
      "BYE\n"
     ]
    }
   ],
   "source": [
    "##############################################################\n",
    "# sendDispatch       : sends a command in output\n",
    "# read               : acquires data from input\n",
    "##############################################################\n",
    "import socket\n",
    "import time\n",
    "\n",
    "basicRobotPort = 8020\n",
    "sock = socket.socket(socket.AF_INET, socket.SOCK_STREAM)\n",
    "\n",
    "goForwardMsg  = \"msg(cmd,dispatch,python,basicrobot,cmd(w),1)\"\n",
    "goBackwardMsg = \"msg(cmd,dispatch,python,basicrobot,cmd(s),1)\" \n",
    "turnLeftMsg   = \"msg(cmd,dispatch,python,basicrobot,cmd(a),1)\"  \n",
    "turnRightMsg  = \"msg(cmd,dispatch,python,basicrobot,cmd(d),1)\"  \n",
    "haltMsg       = \"msg(cmd,dispatch,python,basicrobot,cmd(h),1)\"\n",
    "\n",
    "def connect(port) :\n",
    "    server_address = ('localhost', port)\n",
    "    sock.connect(server_address)    \n",
    "    print(\"CONNECTED WITH basicrobot\" , server_address)\n",
    "\n",
    "def sendDispatch( message ) :\n",
    "    print(\"forward \", message)\n",
    "    msg = message + \"\\n\"\n",
    "    byt=msg.encode()    #required in Python3\n",
    "    sock.send(byt)\n",
    "\n",
    "def work() :\n",
    "    sendDispatch( goForwardMsg ) \n",
    "    time.sleep(3)\n",
    "    sendDispatch( haltMsg )\n",
    "    time.sleep(1)\n",
    "\n",
    "def read() :\n",
    "    BUFFER_SIZE = 1024\n",
    "    data = sock.recv(BUFFER_SIZE)\n",
    "    print( \"received data:\", data )\n",
    "\n",
    "def terminate() :\n",
    "    #sock.close()    #qak infrastr receives a msg null\n",
    "    print(\"BYE\")\n",
    "\n",
    "###########################################    \n",
    "connect(basicRobotPort)\n",
    "work()\n",
    "terminate()    "
   ]
  },
  {
   "cell_type": "markdown",
   "metadata": {},
   "source": [
    "## Interaction with the robotmind qactor"
   ]
  },
  {
   "cell_type": "code",
   "execution_count": null,
   "metadata": {},
   "outputs": [],
   "source": [
    "import socket\n",
    "import time\n",
    "\n",
    "basicRobotPort = 8020\n",
    "mindRobotPort  = 8035\n",
    "\n",
    "sock = socket.socket(socket.AF_INET, socket.SOCK_STREAM)\n",
    "\n",
    "def connect(port) :\n",
    "    server_address = ('localhost', port)\n",
    "    sock.connect(server_address)    \n",
    "    print(\"CONNECTED WITH basicrobot\" , server_address)\n",
    "\n",
    "def forward( message ) :\n",
    "    print(\"forward \", message)\n",
    "    msg = message + \"\\n\"\n",
    "    byt=msg.encode()    #required in Python3\n",
    "    sock.send(byt)\n",
    "\n",
    "def work() :\n",
    "    forward( \"msg(cmd,dispatch,python,basicrobot,cmd(w),1)\" ) \n",
    "    time.sleep(1)\n",
    "    forward(\"msg(cmd,dispatch,python,basicrobot,cmd(h),1)\")\n",
    "\n",
    "def read() :\n",
    "    BUFFER_SIZE = 1024\n",
    "    data = sock.recv(BUFFER_SIZE)\n",
    "    print( \"received data:\", data )\n",
    "\n",
    "def oneStep() :\n",
    "    forward( \"msg(onestep,dispatch,python,onestepahead,onestep(1000),1)\" ) \n",
    "\n",
    "def terminate() :\n",
    "    sock.close()\n",
    "    print(\"BYE\")\n",
    "\n",
    "###########################################    \n",
    "connect(mindRobotPort)\n",
    "#work()\n",
    "oneStep()\n",
    "terminate()"
   ]
  },
  {
   "cell_type": "code",
   "execution_count": null,
   "metadata": {},
   "outputs": [],
   "source": []
  },
  {
   "cell_type": "code",
   "execution_count": null,
   "metadata": {},
   "outputs": [],
   "source": [
    "import time\n",
    "import paho.mqtt.client as paho\n",
    "\n",
    "brokerAddr=\"localhost\"\n",
    "\n",
    "def on_message(client, userdata, message) :   #define callback\n",
    "    evMsg = str( message.payload.decode(\"utf-8\")  )\n",
    "    print(\"evMsg=\", evMsg  )\n",
    "    \n",
    "client= paho.Client(\"receiver\")      \n",
    "client.on_message=on_message            # Bind function to callback\n",
    "\n",
    "client.connect(brokerAddr)              #connect\n",
    "print(\"connected to broker \", brokerAddr)\n",
    "print(\"subscribing to unibo/qak/events\")\n",
    "client.subscribe(\"unibo/qak/events\")      #subscribe\n",
    "    \n",
    "print(\"collecting values; please wait ...\" )\n",
    "client.loop_start()             #start loop to process received messages\n",
    "time.sleep(30)\n",
    "client.disconnect()             #disconnect\n",
    "print(\"bye\")\n",
    "client.loop_stop()              #stop loop        \n",
    "    "
   ]
  },
  {
   "cell_type": "code",
   "execution_count": null,
   "metadata": {},
   "outputs": [],
   "source": []
  }
 ],
 "metadata": {
  "kernelspec": {
   "display_name": "Python 3",
   "language": "python",
   "name": "python3"
  },
  "language_info": {
   "codemirror_mode": {
    "name": "ipython",
    "version": 3
   },
   "file_extension": ".py",
   "mimetype": "text/x-python",
   "name": "python",
   "nbconvert_exporter": "python",
   "pygments_lexer": "ipython3",
   "version": "3.7.3"
  }
 },
 "nbformat": 4,
 "nbformat_minor": 2
}
