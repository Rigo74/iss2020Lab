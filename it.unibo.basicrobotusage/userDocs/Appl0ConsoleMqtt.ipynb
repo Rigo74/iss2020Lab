{
 "cells": [
  {
   "cell_type": "markdown",
   "metadata": {
    "slideshow": {
     "slide_type": "subslide"
    }
   },
   "source": [
    "# Appl0ConsoleMqtt \n",
    "See the project it.unibo.basicrobotusage"
   ]
  },
  {
   "cell_type": "markdown",
   "metadata": {},
   "source": [
    "## Console for Application0  via MQTT using events"
   ]
  },
  {
   "cell_type": "code",
   "execution_count": null,
   "metadata": {},
   "outputs": [],
   "source": [
    "import time\n",
    "import paho.mqtt.client as paho\n",
    " \n",
    "brokerAddr     = \"localhost\"\n",
    "\n",
    "robotName      = \"robotappl0\"\n",
    "topic          = \"unibo/qak/events\"     #WARNING: we must known an infrastructural detail\n",
    "msgTemplate    = \"msg(cmd,dispatch, python,\"+ robotName +\",cmd(CMDVAL),1)\"\n",
    "eventTemplate  = \"msg(userCmd,event,python,none,userCmd(CMDVAL),1)\"\n",
    "stepTemplate   = \"msg(step,event,python,none,step(370),1)\"\n",
    "\n",
    "def emit( cmd ) :\n",
    "    message = eventTemplate.replace(\"CMDVAL\", cmd)\n",
    "    #print(\"emit event via MQTT\", message)\n",
    "    msg = message + \"\\n\"\n",
    "    #byt = msg.encode()     \n",
    "    #tb  = topic.encode()\n",
    "    client.publish(topic, msg)\n",
    "\n",
    "def forward( cmd ) :\n",
    "    message = msgTemplate.replace(\"CMDVAL\", cmd)\n",
    "    #print(\"forward via MQTT\", message)\n",
    "    msg = message + \"\\n\"\n",
    "    client.publish(topic, msg)\n",
    "\n",
    "def doStep():\n",
    "    msg = stepTemplate + \"\\n\"\n",
    "    print(\"doStep via MQTT \", msg)\n",
    "    client.publish(topic, msg)\n",
    "\n",
    "def console() :  \n",
    "    print(\"console  STARTS :\"   )\n",
    "    cmd =  str( input() )\n",
    "    while( len(cmd)==1 and cmd != \"q\"  ) :\n",
    "        if( cmd == \"p\"):\n",
    "            doStep()\n",
    "        else:\n",
    "            #forward( cmd )\n",
    "            emit( cmd )\n",
    "        cmd =  str(input())\n",
    "#################################################   \n",
    "client= paho.Client(\"sender\")      \n",
    "client.connect(brokerAddr)              #connect\n",
    "print(\"connected to broker \", brokerAddr)\n",
    "\n",
    "console()"
   ]
  },
  {
   "cell_type": "markdown",
   "metadata": {},
   "source": [
    "## Console for Application0  via MQTT using dispatch"
   ]
  },
  {
   "cell_type": "code",
   "execution_count": 5,
   "metadata": {},
   "outputs": [
    {
     "name": "stdout",
     "output_type": "stream",
     "text": [
      "connected to broker  localhost\n",
      "console  STARTS :\n",
      "p\n",
      "q\n"
     ]
    }
   ],
   "source": [
    "import time\n",
    "import paho.mqtt.client as paho\n",
    " \n",
    "brokerAddr     = \"localhost\"\n",
    "robotName      = \"robotappl0\"\n",
    "appl0topic     = \"unibo/qak/\"+robotName     #WARNING: we must known an infrastructural detail\n",
    "cmdTemplate    = \"msg(cmd,dispatch, python,\"+ robotName +\",cmd(CMDVAL),1)\"\n",
    "stepMsg        = \"msg(step,dispatch,python,\"+ robotName +\",step(300),1)\"\n",
    "stopMsg        = \"msg(stop,dispatch,python,\"+ robotName +\",stop(user),1)\"\n",
    "\n",
    "def forward( cmd ) :\n",
    "    message = cmdTemplate.replace(\"CMDVAL\", cmd) + \"\\n\"\n",
    "    client.publish(appl0topic, message)\n",
    "\n",
    "def doStep():\n",
    "    msg = stepMsg + \"\\n\"\n",
    "    client.publish(appl0topic, msg)\n",
    "\n",
    "def doStop():\n",
    "    msg = stopMsg + \"\\n\"\n",
    "    client.publish(appl0topic, msg)\n",
    "\n",
    "def doStepStop(): #just to do a test ...\n",
    "    doStep()\n",
    "    time.sleep(0.1)\n",
    "    doStop()\n",
    "\n",
    "def console() :  \n",
    "    print(\"console  STARTS :\"   )\n",
    "    cmd =  str( input() )\n",
    "    while( len(cmd)==1 and  cmd != \"q\"  ) :\n",
    "        if( cmd == \"p\"):\n",
    "            doStep()\n",
    "        else :\n",
    "            if( cmd == \"k\"):\n",
    "                doStepStop()\n",
    "            else : \n",
    "                forward( cmd )\n",
    "        cmd =  str(input())\n",
    "#################################################   \n",
    "client= paho.Client(\"sender\")      \n",
    "client.connect(brokerAddr)              #connect\n",
    "print(\"connected to broker \", brokerAddr)\n",
    "console()"
   ]
  },
  {
   "cell_type": "code",
   "execution_count": null,
   "metadata": {},
   "outputs": [],
   "source": []
  }
 ],
 "metadata": {
  "kernelspec": {
   "display_name": "Python 3",
   "language": "python",
   "name": "python3"
  },
  "language_info": {
   "codemirror_mode": {
    "name": "ipython",
    "version": 3
   },
   "file_extension": ".py",
   "mimetype": "text/x-python",
   "name": "python",
   "nbconvert_exporter": "python",
   "pygments_lexer": "ipython3",
   "version": "3.7.3"
  }
 },
 "nbformat": 4,
 "nbformat_minor": 2
}
