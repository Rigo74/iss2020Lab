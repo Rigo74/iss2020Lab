{
 "cells": [
  {
   "cell_type": "markdown",
   "metadata": {
    "slideshow": {
     "slide_type": "subslide"
    }
   },
   "source": [
    "# Appl0ConsoleMqtt \n",
    "See the project it.unibo.basicrobotusage"
   ]
  },
  {
   "cell_type": "markdown",
   "metadata": {},
   "source": [
    "## Console for Application 0  via MQTT"
   ]
  },
  {
   "cell_type": "code",
   "execution_count": 5,
   "metadata": {},
   "outputs": [
    {
     "name": "stdout",
     "output_type": "stream",
     "text": [
      "connected to broker  localhost\n",
      "console  STARTS :\n",
      "p\n",
      "doStep via MQTT  msg(step,event,python,none,step(370),1)\n",
      "\n",
      "p\n",
      "doStep via MQTT  msg(step,event,python,none,step(370),1)\n",
      "\n",
      "p\n",
      "doStep via MQTT  msg(step,event,python,none,step(370),1)\n",
      "\n",
      "p\n",
      "doStep via MQTT  msg(step,event,python,none,step(370),1)\n",
      "\n",
      "p\n",
      "doStep via MQTT  msg(step,event,python,none,step(370),1)\n",
      "\n",
      "q\n"
     ]
    }
   ],
   "source": [
    "import time\n",
    "import paho.mqtt.client as paho\n",
    " \n",
    "brokerAddr     = \"localhost\"\n",
    "\n",
    "robotName      = \"robotappl0\"\n",
    "topic          = \"unibo/qak/events\"     #WARNING: we must known an infrastructural detail\n",
    "msgTemplate    = \"msg(cmd,dispatch, python,\"+ robotName +\",cmd(CMDVAL),1)\"\n",
    "eventTemplate  = \"msg(userCmd,event,python,none,userCmd(CMDVAL),1)\"\n",
    "stepTemplate   = \"msg(step,event,python,none,step(370),1)\"\n",
    "\n",
    "def emit( cmd ) :\n",
    "    message = eventTemplate.replace(\"CMDVAL\", cmd)\n",
    "    #print(\"emit event via MQTT\", message)\n",
    "    msg = message + \"\\n\"\n",
    "    #byt = msg.encode()     \n",
    "    #tb  = topic.encode()\n",
    "    client.publish(topic, msg)\n",
    "\n",
    "def forward( cmd ) :\n",
    "    message = msgTemplate.replace(\"CMDVAL\", cmd)\n",
    "    #print(\"forward via MQTT\", message)\n",
    "    msg = message + \"\\n\"\n",
    "    client.publish(topic, msg)\n",
    "\n",
    "def doStep():\n",
    "    msg = stepTemplate + \"\\n\"\n",
    "    print(\"doStep via MQTT \", msg)\n",
    "    client.publish(topic, msg)\n",
    "\n",
    "def console() :  \n",
    "    print(\"console  STARTS :\"   )\n",
    "    cmd =  str( input() )\n",
    "    while( len(cmd)==1 and cmd != \"q\"  ) :\n",
    "        if( cmd == \"p\"):\n",
    "            doStep()\n",
    "        else:\n",
    "            #forward( cmd )\n",
    "            emit( cmd )\n",
    "        cmd =  str(input())\n",
    "#################################################   \n",
    "client= paho.Client(\"sender\")      \n",
    "client.connect(brokerAddr)              #connect\n",
    "print(\"connected to broker \", brokerAddr)\n",
    "\n",
    "console()"
   ]
  },
  {
   "cell_type": "code",
   "execution_count": null,
   "metadata": {},
   "outputs": [],
   "source": []
  }
 ],
 "metadata": {
  "kernelspec": {
   "display_name": "Python 3",
   "language": "python",
   "name": "python3"
  },
  "language_info": {
   "codemirror_mode": {
    "name": "ipython",
    "version": 3
   },
   "file_extension": ".py",
   "mimetype": "text/x-python",
   "name": "python",
   "nbconvert_exporter": "python",
   "pygments_lexer": "ipython3",
   "version": "3.7.3"
  }
 },
 "nbformat": 4,
 "nbformat_minor": 2
}
