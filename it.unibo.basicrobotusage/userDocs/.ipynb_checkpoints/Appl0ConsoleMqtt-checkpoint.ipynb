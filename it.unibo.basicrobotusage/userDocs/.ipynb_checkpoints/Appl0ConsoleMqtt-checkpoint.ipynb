{
 "cells": [
  {
   "cell_type": "markdown",
   "metadata": {
    "slideshow": {
     "slide_type": "subslide"
    }
   },
   "source": [
    "# Appl0ConsoleMqtt \n",
    "See the project it.unibo.basicrobotusage"
   ]
  },
  {
   "cell_type": "markdown",
   "metadata": {},
   "source": [
    "## Console for Application 0  via MQTT using events"
   ]
  },
  {
   "cell_type": "code",
   "execution_count": null,
   "metadata": {},
   "outputs": [],
   "source": [
    "import time\n",
    "import paho.mqtt.client as paho\n",
    " \n",
    "brokerAddr     = \"localhost\"\n",
    "\n",
    "robotName      = \"robotappl0\"\n",
    "topic          = \"unibo/qak/events\"     #WARNING: we must known an infrastructural detail\n",
    "msgTemplate    = \"msg(cmd,dispatch, python,\"+ robotName +\",cmd(CMDVAL),1)\"\n",
    "eventTemplate  = \"msg(userCmd,event,python,none,userCmd(CMDVAL),1)\"\n",
    "stepTemplate   = \"msg(step,event,python,none,step(370),1)\"\n",
    "\n",
    "def emit( cmd ) :\n",
    "    message = eventTemplate.replace(\"CMDVAL\", cmd)\n",
    "    #print(\"emit event via MQTT\", message)\n",
    "    msg = message + \"\\n\"\n",
    "    #byt = msg.encode()     \n",
    "    #tb  = topic.encode()\n",
    "    client.publish(topic, msg)\n",
    "\n",
    "def forward( cmd ) :\n",
    "    message = msgTemplate.replace(\"CMDVAL\", cmd)\n",
    "    #print(\"forward via MQTT\", message)\n",
    "    msg = message + \"\\n\"\n",
    "    client.publish(topic, msg)\n",
    "\n",
    "def doStep():\n",
    "    msg = stepTemplate + \"\\n\"\n",
    "    print(\"doStep via MQTT \", msg)\n",
    "    client.publish(topic, msg)\n",
    "\n",
    "def console() :  \n",
    "    print(\"console  STARTS :\"   )\n",
    "    cmd =  str( input() )\n",
    "    while( len(cmd)==1 and cmd != \"q\"  ) :\n",
    "        if( cmd == \"p\"):\n",
    "            doStep()\n",
    "        else:\n",
    "            #forward( cmd )\n",
    "            emit( cmd )\n",
    "        cmd =  str(input())\n",
    "#################################################   \n",
    "client= paho.Client(\"sender\")      \n",
    "client.connect(brokerAddr)              #connect\n",
    "print(\"connected to broker \", brokerAddr)\n",
    "\n",
    "console()"
   ]
  },
  {
   "cell_type": "markdown",
   "metadata": {},
   "source": [
    "## Console for Application 0  via MQTT using dispatch"
   ]
  },
  {
   "cell_type": "code",
   "execution_count": 2,
   "metadata": {},
   "outputs": [
    {
     "name": "stdout",
     "output_type": "stream",
     "text": [
      "connected to broker  localhost\n",
      "console  STARTS :\n",
      "d\n"
     ]
    },
    {
     "ename": "NameError",
     "evalue": "name 'topic' is not defined",
     "output_type": "error",
     "traceback": [
      "\u001b[1;31m---------------------------------------------------------------------------\u001b[0m",
      "\u001b[1;31mNameError\u001b[0m                                 Traceback (most recent call last)",
      "\u001b[1;32m<ipython-input-2-1a147db2fc76>\u001b[0m in \u001b[0;36m<module>\u001b[1;34m\u001b[0m\n\u001b[0;32m     42\u001b[0m \u001b[0mclient\u001b[0m\u001b[1;33m.\u001b[0m\u001b[0mconnect\u001b[0m\u001b[1;33m(\u001b[0m\u001b[0mbrokerAddr\u001b[0m\u001b[1;33m)\u001b[0m              \u001b[1;31m#connect\u001b[0m\u001b[1;33m\u001b[0m\u001b[1;33m\u001b[0m\u001b[0m\n\u001b[0;32m     43\u001b[0m \u001b[0mprint\u001b[0m\u001b[1;33m(\u001b[0m\u001b[1;34m\"connected to broker \"\u001b[0m\u001b[1;33m,\u001b[0m \u001b[0mbrokerAddr\u001b[0m\u001b[1;33m)\u001b[0m\u001b[1;33m\u001b[0m\u001b[1;33m\u001b[0m\u001b[0m\n\u001b[1;32m---> 44\u001b[1;33m \u001b[0mconsole\u001b[0m\u001b[1;33m(\u001b[0m\u001b[1;33m)\u001b[0m\u001b[1;33m\u001b[0m\u001b[1;33m\u001b[0m\u001b[0m\n\u001b[0m",
      "\u001b[1;32m<ipython-input-2-1a147db2fc76>\u001b[0m in \u001b[0;36mconsole\u001b[1;34m()\u001b[0m\n\u001b[0;32m     36\u001b[0m                 \u001b[0mdoStepStop\u001b[0m\u001b[1;33m(\u001b[0m\u001b[1;33m)\u001b[0m\u001b[1;33m\u001b[0m\u001b[1;33m\u001b[0m\u001b[0m\n\u001b[0;32m     37\u001b[0m             \u001b[1;32melse\u001b[0m \u001b[1;33m:\u001b[0m\u001b[1;33m\u001b[0m\u001b[1;33m\u001b[0m\u001b[0m\n\u001b[1;32m---> 38\u001b[1;33m                 \u001b[0mforward\u001b[0m\u001b[1;33m(\u001b[0m \u001b[0mcmd\u001b[0m \u001b[1;33m)\u001b[0m\u001b[1;33m\u001b[0m\u001b[1;33m\u001b[0m\u001b[0m\n\u001b[0m\u001b[0;32m     39\u001b[0m         \u001b[0mcmd\u001b[0m \u001b[1;33m=\u001b[0m  \u001b[0mstr\u001b[0m\u001b[1;33m(\u001b[0m\u001b[0minput\u001b[0m\u001b[1;33m(\u001b[0m\u001b[1;33m)\u001b[0m\u001b[1;33m)\u001b[0m\u001b[1;33m\u001b[0m\u001b[1;33m\u001b[0m\u001b[0m\n\u001b[0;32m     40\u001b[0m \u001b[1;31m#################################################\u001b[0m\u001b[1;33m\u001b[0m\u001b[1;33m\u001b[0m\u001b[1;33m\u001b[0m\u001b[0m\n",
      "\u001b[1;32m<ipython-input-2-1a147db2fc76>\u001b[0m in \u001b[0;36mforward\u001b[1;34m(cmd)\u001b[0m\n\u001b[0;32m     11\u001b[0m \u001b[1;32mdef\u001b[0m \u001b[0mforward\u001b[0m\u001b[1;33m(\u001b[0m \u001b[0mcmd\u001b[0m \u001b[1;33m)\u001b[0m \u001b[1;33m:\u001b[0m\u001b[1;33m\u001b[0m\u001b[1;33m\u001b[0m\u001b[0m\n\u001b[0;32m     12\u001b[0m     \u001b[0mmessage\u001b[0m \u001b[1;33m=\u001b[0m \u001b[0mcmdTemplate\u001b[0m\u001b[1;33m.\u001b[0m\u001b[0mreplace\u001b[0m\u001b[1;33m(\u001b[0m\u001b[1;34m\"CMDVAL\"\u001b[0m\u001b[1;33m,\u001b[0m \u001b[0mcmd\u001b[0m\u001b[1;33m)\u001b[0m \u001b[1;33m+\u001b[0m \u001b[1;34m\"\\n\"\u001b[0m\u001b[1;33m\u001b[0m\u001b[1;33m\u001b[0m\u001b[0m\n\u001b[1;32m---> 13\u001b[1;33m     \u001b[0mclient\u001b[0m\u001b[1;33m.\u001b[0m\u001b[0mpublish\u001b[0m\u001b[1;33m(\u001b[0m\u001b[0mtopic\u001b[0m\u001b[1;33m,\u001b[0m \u001b[0mmessage\u001b[0m\u001b[1;33m)\u001b[0m\u001b[1;33m\u001b[0m\u001b[1;33m\u001b[0m\u001b[0m\n\u001b[0m\u001b[0;32m     14\u001b[0m \u001b[1;33m\u001b[0m\u001b[0m\n\u001b[0;32m     15\u001b[0m \u001b[1;32mdef\u001b[0m \u001b[0mdoStep\u001b[0m\u001b[1;33m(\u001b[0m\u001b[1;33m)\u001b[0m\u001b[1;33m:\u001b[0m\u001b[1;33m\u001b[0m\u001b[1;33m\u001b[0m\u001b[0m\n",
      "\u001b[1;31mNameError\u001b[0m: name 'topic' is not defined"
     ]
    }
   ],
   "source": [
    "import time\n",
    "import paho.mqtt.client as paho\n",
    " \n",
    "brokerAddr     = \"localhost\"\n",
    "robotName      = \"robotappl0\"\n",
    "appl0topic     = \"unibo/qak/\"+robotName     #WARNING: we must known an infrastructural detail\n",
    "cmdTemplate    = \"msg(cmd,dispatch, python,\"+ robotName +\",cmd(CMDVAL),1)\"\n",
    "stepMsg        = \"msg(step,dispatch,python,\"+ robotName +\",step(300),1)\"\n",
    "stopMsg        = \"msg(stop,dispatch,python,\"+ robotName +\",stop(user),1)\"\n",
    "\n",
    "def forward( cmd ) :\n",
    "    message = cmdTemplate.replace(\"CMDVAL\", cmd) + \"\\n\"\n",
    "    client.publish(appl0topic, message)\n",
    "\n",
    "def doStep():\n",
    "    msg = stepMsg + \"\\n\"\n",
    "    client.publish(appl0topic, msg)\n",
    "\n",
    "def doStop():\n",
    "    msg = stopMsg + \"\\n\"\n",
    "    client.publish(appl0topic, msg)\n",
    "\n",
    "def doStepStop(): #just to do a test ...\n",
    "    doStep()\n",
    "    time.sleep(0.1)\n",
    "    doStop()\n",
    "\n",
    "def console() :  \n",
    "    print(\"console  STARTS :\"   )\n",
    "    cmd =  str( input() )\n",
    "    while( len(cmd)==1 and  cmd != \"q\"  ) :\n",
    "        if( cmd == \"p\"):\n",
    "            doStep()\n",
    "        else :\n",
    "            if( cmd == \"k\"):\n",
    "                doStepStop()\n",
    "            else : \n",
    "                forward( cmd )\n",
    "        cmd =  str(input())\n",
    "#################################################   \n",
    "client= paho.Client(\"sender\")      \n",
    "client.connect(brokerAddr)              #connect\n",
    "print(\"connected to broker \", brokerAddr)\n",
    "console()"
   ]
  },
  {
   "cell_type": "code",
   "execution_count": null,
   "metadata": {},
   "outputs": [],
   "source": []
  }
 ],
 "metadata": {
  "kernelspec": {
   "display_name": "Python 3",
   "language": "python",
   "name": "python3"
  }
 },
 "nbformat": 4,
 "nbformat_minor": 2
}
