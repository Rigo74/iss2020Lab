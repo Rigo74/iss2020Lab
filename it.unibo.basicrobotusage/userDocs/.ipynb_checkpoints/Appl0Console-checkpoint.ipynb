{
 "cells": [
  {
   "cell_type": "markdown",
   "metadata": {
    "slideshow": {
     "slide_type": "subslide"
    }
   },
   "source": [
    "# Console for Application 0  via TCP\n",
    "See the project it.unibo.basicrobotusage"
   ]
  },
  {
   "cell_type": "code",
   "execution_count": null,
   "metadata": {},
   "outputs": [],
   "source": []
  },
  {
   "cell_type": "code",
   "execution_count": null,
   "metadata": {},
   "outputs": [
    {
     "name": "stdout",
     "output_type": "stream",
     "text": [
      "STARTING ... \n",
      "CONNECTED WITH  ('localhost', 8033)\n",
      "console  STARTS :\n",
      "w\n",
      "console  cmd= : w\n",
      "emit  msg(userCmd,event,python,none,userCmd(w),1)\n"
     ]
    }
   ],
   "source": [
    "##############################################################\n",
    "# forward       : sends a diapatch command in output\n",
    "##############################################################\n",
    "import socket\n",
    "import time\n",
    "\n",
    "robotName      = \"robotappl0\"  \n",
    "\n",
    "hostAdress     = 'localhost'\n",
    "applrobotport  = 8033\n",
    "\n",
    "msgTemplate   = \"msg(cmd,dispatch,python,\"+ robotName +\",cmd(CMDVAL),1)\"\n",
    "eventTemplate = \"msg(userCmd,event,python,none,userCmd(CMDVAL),1)\"\n",
    "\n",
    "sock          = socket.socket(socket.AF_INET, socket.SOCK_STREAM)\n",
    "\n",
    "def connect(port) :\n",
    "    server_address = (hostAdress, port)\n",
    "    sock.connect(server_address)    \n",
    "    print(\"CONNECTED WITH \", server_address)\n",
    "\n",
    "def terminate() :\n",
    "    sock.close()    #qak infrastr receives a msg null\n",
    "    print(\"BYE\")\n",
    "\n",
    "def forward( cmd ) :\n",
    "    message = msgTemplate.replace(\"CMDVAL\", cmd)\n",
    "    print(\"forward \", message)\n",
    "    msg = message + \"\\n\"\n",
    "    byt=msg.encode()    #required in Python3\n",
    "    sock.send(byt)\n",
    "\n",
    "def emit( cmd ) :\n",
    "    message = eventTemplate.replace(\"CMDVAL\", cmd)\n",
    "    print(\"emit \", message)\n",
    "    msg = message + \"\\n\"\n",
    "    byt=msg.encode()    #required in Python3\n",
    "    sock.send(byt)\n",
    "\n",
    "def read() :\n",
    "    BUFFER_SIZE = 1024\n",
    "    data = sock.recv(BUFFER_SIZE)\n",
    "    print( \"received data:\", data )\n",
    "    \n",
    "def console() :  \n",
    "    print(\"console  STARTS :\"   )\n",
    "    cmd =  str( input() )\n",
    "    print(\"console  cmd= :\" , cmd  )\n",
    "    while( cmd != \"q\"  ) :\n",
    "        #forward( cmd )\n",
    "        emit( cmd )\n",
    "        cmd =  str(input())\n",
    "\n",
    "##################################################\n",
    "print(\"STARTING ... \")\n",
    "connect(applrobotport)\n",
    "sock.settimeout(60000)\n",
    "console() "
   ]
  },
  {
   "cell_type": "code",
   "execution_count": null,
   "metadata": {},
   "outputs": [],
   "source": []
  }
 ],
 "metadata": {
  "kernelspec": {
   "display_name": "Python 3",
   "language": "python",
   "name": "python3"
  },
  "language_info": {
   "codemirror_mode": {
    "name": "ipython",
    "version": 3
   },
   "file_extension": ".py",
   "mimetype": "text/x-python",
   "name": "python",
   "nbconvert_exporter": "python",
   "pygments_lexer": "ipython3",
   "version": "3.7.3"
  }
 },
 "nbformat": 4,
 "nbformat_minor": 2
}
